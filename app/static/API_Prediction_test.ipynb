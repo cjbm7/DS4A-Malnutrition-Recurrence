{
  "nbformat": 4,
  "nbformat_minor": 0,
  "metadata": {
    "colab": {
      "name": "API Prediction - test.ipynb",
      "provenance": [],
      "collapsed_sections": []
    },
    "kernelspec": {
      "name": "python3",
      "display_name": "Python 3"
    },
    "language_info": {
      "name": "python"
    }
  },
  "cells": [
    {
      "cell_type": "markdown",
      "metadata": {
        "id": "Byovn-RGBQfs"
      },
      "source": [
        "### **API PREDICTION  -  TEST**"
      ]
    },
    {
      "cell_type": "code",
      "metadata": {
        "id": "sJ7-IRG7Bmr1"
      },
      "source": [
        ""
      ],
      "execution_count": null,
      "outputs": []
    }
  ]
}